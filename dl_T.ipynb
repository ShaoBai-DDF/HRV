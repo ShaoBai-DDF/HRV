{
 "cells": [
  {
   "cell_type": "code",
   "execution_count": 1,
   "id": "western-foundation",
   "metadata": {},
   "outputs": [],
   "source": [
    "# 导入模块\n",
    "import os\n",
    "import numpy as np\n",
    "import tensorflow.keras as K\n",
    "import tensorflow as tf\n",
    "import pandas as pd\n",
    "from sklearn.model_selection import train_test_split\n",
    "from sklearn.preprocessing import LabelBinarizer\n",
    "os.environ['TF_CPP_MIN_LOG_LEVEL']='2'\n",
    "tf.compat.v1.disable_eager_execution()"
   ]
  },
  {
   "cell_type": "code",
   "execution_count": 2,
   "id": "hidden-holiday",
   "metadata": {},
   "outputs": [
    {
     "name": "stdout",
     "output_type": "stream",
     "text": [
      "['编号', '性别', '年龄', '身高', '体重', '吸烟史', '饮酒史', '高血压病史', '糖尿病史', '高脂血症病史', '是否有新发脑梗死病灶', 'SDS', 'SAS', 'CTI', '睡眠总长', '睡眠总长（分钟）', '睡眠效率', '清醒次数', '离床次数', 'R期时长百分比', '浅睡时长百分比', '深睡时长百分比', 'Y（0为正常，1为紊乱）']\n"
     ]
    },
    {
     "data": {
      "text/html": [
       "<div>\n",
       "<style scoped>\n",
       "    .dataframe tbody tr th:only-of-type {\n",
       "        vertical-align: middle;\n",
       "    }\n",
       "\n",
       "    .dataframe tbody tr th {\n",
       "        vertical-align: top;\n",
       "    }\n",
       "\n",
       "    .dataframe thead th {\n",
       "        text-align: right;\n",
       "    }\n",
       "</style>\n",
       "<table border=\"1\" class=\"dataframe\">\n",
       "  <thead>\n",
       "    <tr style=\"text-align: right;\">\n",
       "      <th></th>\n",
       "      <th>编号</th>\n",
       "      <th>性别</th>\n",
       "      <th>年龄</th>\n",
       "      <th>身高</th>\n",
       "      <th>体重</th>\n",
       "      <th>吸烟史</th>\n",
       "      <th>饮酒史</th>\n",
       "      <th>高血压病史</th>\n",
       "      <th>糖尿病史</th>\n",
       "      <th>高脂血症病史</th>\n",
       "      <th>...</th>\n",
       "      <th>CTI</th>\n",
       "      <th>睡眠总长</th>\n",
       "      <th>睡眠总长（分钟）</th>\n",
       "      <th>睡眠效率</th>\n",
       "      <th>清醒次数</th>\n",
       "      <th>离床次数</th>\n",
       "      <th>R期时长百分比</th>\n",
       "      <th>浅睡时长百分比</th>\n",
       "      <th>深睡时长百分比</th>\n",
       "      <th>Y（0为正常，1为紊乱）</th>\n",
       "    </tr>\n",
       "  </thead>\n",
       "  <tbody>\n",
       "    <tr>\n",
       "      <th>0</th>\n",
       "      <td>202101</td>\n",
       "      <td>1</td>\n",
       "      <td>47</td>\n",
       "      <td>1.65</td>\n",
       "      <td>80</td>\n",
       "      <td>1</td>\n",
       "      <td>1</td>\n",
       "      <td>1</td>\n",
       "      <td>0</td>\n",
       "      <td>1</td>\n",
       "      <td>...</td>\n",
       "      <td>34</td>\n",
       "      <td>5小时27分钟</td>\n",
       "      <td>327</td>\n",
       "      <td>0.39</td>\n",
       "      <td>18</td>\n",
       "      <td>6</td>\n",
       "      <td>0.150</td>\n",
       "      <td>0.813</td>\n",
       "      <td>0.037</td>\n",
       "      <td>1</td>\n",
       "    </tr>\n",
       "    <tr>\n",
       "      <th>1</th>\n",
       "      <td>202101</td>\n",
       "      <td>1</td>\n",
       "      <td>47</td>\n",
       "      <td>1.65</td>\n",
       "      <td>80</td>\n",
       "      <td>1</td>\n",
       "      <td>1</td>\n",
       "      <td>1</td>\n",
       "      <td>0</td>\n",
       "      <td>1</td>\n",
       "      <td>...</td>\n",
       "      <td>34</td>\n",
       "      <td>8小时58分钟</td>\n",
       "      <td>538</td>\n",
       "      <td>0.53</td>\n",
       "      <td>30</td>\n",
       "      <td>7</td>\n",
       "      <td>0.266</td>\n",
       "      <td>0.613</td>\n",
       "      <td>0.121</td>\n",
       "      <td>1</td>\n",
       "    </tr>\n",
       "    <tr>\n",
       "      <th>2</th>\n",
       "      <td>202101</td>\n",
       "      <td>1</td>\n",
       "      <td>47</td>\n",
       "      <td>1.65</td>\n",
       "      <td>80</td>\n",
       "      <td>1</td>\n",
       "      <td>1</td>\n",
       "      <td>1</td>\n",
       "      <td>0</td>\n",
       "      <td>1</td>\n",
       "      <td>...</td>\n",
       "      <td>34</td>\n",
       "      <td>8小时10分钟</td>\n",
       "      <td>490</td>\n",
       "      <td>0.59</td>\n",
       "      <td>32</td>\n",
       "      <td>4</td>\n",
       "      <td>0.259</td>\n",
       "      <td>0.559</td>\n",
       "      <td>0.182</td>\n",
       "      <td>0</td>\n",
       "    </tr>\n",
       "  </tbody>\n",
       "</table>\n",
       "<p>3 rows × 23 columns</p>\n",
       "</div>"
      ],
      "text/plain": [
       "       编号  性别  年龄    身高  体重  吸烟史  饮酒史  高血压病史  糖尿病史  高脂血症病史  ...  CTI     睡眠总长  \\\n",
       "0  202101   1  47  1.65  80    1    1      1     0       1  ...   34  5小时27分钟   \n",
       "1  202101   1  47  1.65  80    1    1      1     0       1  ...   34  8小时58分钟   \n",
       "2  202101   1  47  1.65  80    1    1      1     0       1  ...   34  8小时10分钟   \n",
       "\n",
       "   睡眠总长（分钟）  睡眠效率 清醒次数  离床次数  R期时长百分比  浅睡时长百分比  深睡时长百分比  Y（0为正常，1为紊乱）  \n",
       "0       327  0.39   18     6    0.150    0.813    0.037             1  \n",
       "1       538  0.53   30     7    0.266    0.613    0.121             1  \n",
       "2       490  0.59   32     4    0.259    0.559    0.182             0  \n",
       "\n",
       "[3 rows x 23 columns]"
      ]
     },
     "execution_count": 2,
     "metadata": {},
     "output_type": "execute_result"
    }
   ],
   "source": [
    "data1 = pd.read_excel('C:/Users/admin/Desktop/睡眠结构_T.xlsx','Sheet1',index_col=0)\n",
    "data1.to_csv('C:/Users/admin/Desktop/睡眠结构_T.csv',encoding='utf-8')\n",
    "pima = pd.read_csv('C:/Users/admin/Desktop/睡眠结构_T.csv') \n",
    "clo_names = pima.columns.tolist()\n",
    "print(clo_names)\n",
    "to_show = clo_names[:6] + clo_names[-6:]\n",
    "pima[:].head(3)"
   ]
  },
  {
   "cell_type": "code",
   "execution_count": 3,
   "id": "swiss-capture",
   "metadata": {},
   "outputs": [],
   "source": [
    "to_drop = ['编号','睡眠总长','R期时长百分比','浅睡时长百分比','深睡时长百分比']\n",
    "pima_01 = pima.drop(to_drop,axis=1)"
   ]
  },
  {
   "cell_type": "code",
   "execution_count": 4,
   "id": "chief-tsunami",
   "metadata": {},
   "outputs": [
    {
     "name": "stdout",
     "output_type": "stream",
     "text": [
      "<bound method IndexOpsMixin.tolist of Index(['性别', '年龄', '身高', '体重', '吸烟史', '饮酒史', '高血压病史', '糖尿病史', '高脂血症病史',\n",
      "       '是否有新发脑梗死病灶', 'SDS', 'SAS', 'CTI', '睡眠总长（分钟）', '睡眠效率', '清醒次数', '离床次数',\n",
      "       'Y（0为正常，1为紊乱）'],\n",
      "      dtype='object')>\n"
     ]
    },
    {
     "data": {
      "text/plain": [
       "(135, 18)"
      ]
     },
     "execution_count": 4,
     "metadata": {},
     "output_type": "execute_result"
    }
   ],
   "source": [
    "pima_01.head\n",
    "clo_names_01 = pima_01.columns.tolist\n",
    "print(clo_names_01)\n",
    "pima_01.shape\n",
    "\n",
    "# pima_01['受试者编号']"
   ]
  },
  {
   "cell_type": "code",
   "execution_count": 5,
   "id": "opponent-tradition",
   "metadata": {},
   "outputs": [
    {
     "data": {
      "text/html": [
       "<div>\n",
       "<style scoped>\n",
       "    .dataframe tbody tr th:only-of-type {\n",
       "        vertical-align: middle;\n",
       "    }\n",
       "\n",
       "    .dataframe tbody tr th {\n",
       "        vertical-align: top;\n",
       "    }\n",
       "\n",
       "    .dataframe thead th {\n",
       "        text-align: right;\n",
       "    }\n",
       "</style>\n",
       "<table border=\"1\" class=\"dataframe\">\n",
       "  <thead>\n",
       "    <tr style=\"text-align: right;\">\n",
       "      <th></th>\n",
       "      <th>性别</th>\n",
       "      <th>年龄</th>\n",
       "      <th>身高</th>\n",
       "      <th>体重</th>\n",
       "      <th>吸烟史</th>\n",
       "      <th>饮酒史</th>\n",
       "      <th>高血压病史</th>\n",
       "      <th>糖尿病史</th>\n",
       "      <th>高脂血症病史</th>\n",
       "      <th>是否有新发脑梗死病灶</th>\n",
       "      <th>SDS</th>\n",
       "      <th>SAS</th>\n",
       "      <th>CTI</th>\n",
       "      <th>睡眠总长（分钟）</th>\n",
       "      <th>睡眠效率</th>\n",
       "      <th>清醒次数</th>\n",
       "      <th>离床次数</th>\n",
       "      <th>Y（0为正常，1为紊乱）</th>\n",
       "    </tr>\n",
       "  </thead>\n",
       "  <tbody>\n",
       "    <tr>\n",
       "      <th>count</th>\n",
       "      <td>135.000000</td>\n",
       "      <td>135.000000</td>\n",
       "      <td>135.000000</td>\n",
       "      <td>135.000000</td>\n",
       "      <td>135.000000</td>\n",
       "      <td>135.000000</td>\n",
       "      <td>135.000000</td>\n",
       "      <td>135.000000</td>\n",
       "      <td>135.000000</td>\n",
       "      <td>135.000000</td>\n",
       "      <td>135.000000</td>\n",
       "      <td>135.000000</td>\n",
       "      <td>135.000000</td>\n",
       "      <td>135.000000</td>\n",
       "      <td>135.000000</td>\n",
       "      <td>135.000000</td>\n",
       "      <td>135.000000</td>\n",
       "      <td>135.000000</td>\n",
       "    </tr>\n",
       "    <tr>\n",
       "      <th>mean</th>\n",
       "      <td>1.340741</td>\n",
       "      <td>63.718519</td>\n",
       "      <td>1.655037</td>\n",
       "      <td>69.874074</td>\n",
       "      <td>0.562963</td>\n",
       "      <td>0.311111</td>\n",
       "      <td>0.629630</td>\n",
       "      <td>0.244444</td>\n",
       "      <td>0.355556</td>\n",
       "      <td>0.362963</td>\n",
       "      <td>41.162963</td>\n",
       "      <td>40.311111</td>\n",
       "      <td>20.562963</td>\n",
       "      <td>403.822222</td>\n",
       "      <td>0.603037</td>\n",
       "      <td>18.066667</td>\n",
       "      <td>4.888889</td>\n",
       "      <td>0.711111</td>\n",
       "    </tr>\n",
       "    <tr>\n",
       "      <th>std</th>\n",
       "      <td>0.475724</td>\n",
       "      <td>11.558193</td>\n",
       "      <td>0.079362</td>\n",
       "      <td>11.696683</td>\n",
       "      <td>0.497867</td>\n",
       "      <td>0.464672</td>\n",
       "      <td>0.484702</td>\n",
       "      <td>0.431358</td>\n",
       "      <td>0.480464</td>\n",
       "      <td>0.482645</td>\n",
       "      <td>8.018828</td>\n",
       "      <td>7.246684</td>\n",
       "      <td>7.223105</td>\n",
       "      <td>162.804107</td>\n",
       "      <td>0.161070</td>\n",
       "      <td>9.289056</td>\n",
       "      <td>4.550983</td>\n",
       "      <td>0.454934</td>\n",
       "    </tr>\n",
       "    <tr>\n",
       "      <th>min</th>\n",
       "      <td>1.000000</td>\n",
       "      <td>30.000000</td>\n",
       "      <td>1.500000</td>\n",
       "      <td>45.000000</td>\n",
       "      <td>0.000000</td>\n",
       "      <td>0.000000</td>\n",
       "      <td>0.000000</td>\n",
       "      <td>0.000000</td>\n",
       "      <td>0.000000</td>\n",
       "      <td>0.000000</td>\n",
       "      <td>26.000000</td>\n",
       "      <td>28.000000</td>\n",
       "      <td>11.000000</td>\n",
       "      <td>24.000000</td>\n",
       "      <td>0.000000</td>\n",
       "      <td>1.000000</td>\n",
       "      <td>0.000000</td>\n",
       "      <td>0.000000</td>\n",
       "    </tr>\n",
       "    <tr>\n",
       "      <th>25%</th>\n",
       "      <td>1.000000</td>\n",
       "      <td>60.000000</td>\n",
       "      <td>1.600000</td>\n",
       "      <td>60.000000</td>\n",
       "      <td>0.000000</td>\n",
       "      <td>0.000000</td>\n",
       "      <td>0.000000</td>\n",
       "      <td>0.000000</td>\n",
       "      <td>0.000000</td>\n",
       "      <td>0.000000</td>\n",
       "      <td>35.000000</td>\n",
       "      <td>36.000000</td>\n",
       "      <td>14.000000</td>\n",
       "      <td>298.500000</td>\n",
       "      <td>0.550000</td>\n",
       "      <td>12.000000</td>\n",
       "      <td>2.000000</td>\n",
       "      <td>0.000000</td>\n",
       "    </tr>\n",
       "    <tr>\n",
       "      <th>50%</th>\n",
       "      <td>1.000000</td>\n",
       "      <td>66.000000</td>\n",
       "      <td>1.650000</td>\n",
       "      <td>70.000000</td>\n",
       "      <td>1.000000</td>\n",
       "      <td>0.000000</td>\n",
       "      <td>1.000000</td>\n",
       "      <td>0.000000</td>\n",
       "      <td>0.000000</td>\n",
       "      <td>0.000000</td>\n",
       "      <td>41.000000</td>\n",
       "      <td>40.000000</td>\n",
       "      <td>20.000000</td>\n",
       "      <td>427.000000</td>\n",
       "      <td>0.640000</td>\n",
       "      <td>18.000000</td>\n",
       "      <td>4.000000</td>\n",
       "      <td>1.000000</td>\n",
       "    </tr>\n",
       "    <tr>\n",
       "      <th>75%</th>\n",
       "      <td>2.000000</td>\n",
       "      <td>70.500000</td>\n",
       "      <td>1.700000</td>\n",
       "      <td>78.000000</td>\n",
       "      <td>1.000000</td>\n",
       "      <td>1.000000</td>\n",
       "      <td>1.000000</td>\n",
       "      <td>0.000000</td>\n",
       "      <td>1.000000</td>\n",
       "      <td>1.000000</td>\n",
       "      <td>48.000000</td>\n",
       "      <td>46.000000</td>\n",
       "      <td>27.000000</td>\n",
       "      <td>532.500000</td>\n",
       "      <td>0.705000</td>\n",
       "      <td>24.500000</td>\n",
       "      <td>7.000000</td>\n",
       "      <td>1.000000</td>\n",
       "    </tr>\n",
       "    <tr>\n",
       "      <th>max</th>\n",
       "      <td>2.000000</td>\n",
       "      <td>81.000000</td>\n",
       "      <td>1.800000</td>\n",
       "      <td>100.000000</td>\n",
       "      <td>1.000000</td>\n",
       "      <td>1.000000</td>\n",
       "      <td>1.000000</td>\n",
       "      <td>1.000000</td>\n",
       "      <td>1.000000</td>\n",
       "      <td>1.000000</td>\n",
       "      <td>59.000000</td>\n",
       "      <td>61.000000</td>\n",
       "      <td>37.000000</td>\n",
       "      <td>665.000000</td>\n",
       "      <td>0.850000</td>\n",
       "      <td>47.000000</td>\n",
       "      <td>24.000000</td>\n",
       "      <td>1.000000</td>\n",
       "    </tr>\n",
       "  </tbody>\n",
       "</table>\n",
       "</div>"
      ],
      "text/plain": [
       "               性别          年龄          身高          体重         吸烟史         饮酒史  \\\n",
       "count  135.000000  135.000000  135.000000  135.000000  135.000000  135.000000   \n",
       "mean     1.340741   63.718519    1.655037   69.874074    0.562963    0.311111   \n",
       "std      0.475724   11.558193    0.079362   11.696683    0.497867    0.464672   \n",
       "min      1.000000   30.000000    1.500000   45.000000    0.000000    0.000000   \n",
       "25%      1.000000   60.000000    1.600000   60.000000    0.000000    0.000000   \n",
       "50%      1.000000   66.000000    1.650000   70.000000    1.000000    0.000000   \n",
       "75%      2.000000   70.500000    1.700000   78.000000    1.000000    1.000000   \n",
       "max      2.000000   81.000000    1.800000  100.000000    1.000000    1.000000   \n",
       "\n",
       "            高血压病史        糖尿病史      高脂血症病史  是否有新发脑梗死病灶         SDS         SAS  \\\n",
       "count  135.000000  135.000000  135.000000  135.000000  135.000000  135.000000   \n",
       "mean     0.629630    0.244444    0.355556    0.362963   41.162963   40.311111   \n",
       "std      0.484702    0.431358    0.480464    0.482645    8.018828    7.246684   \n",
       "min      0.000000    0.000000    0.000000    0.000000   26.000000   28.000000   \n",
       "25%      0.000000    0.000000    0.000000    0.000000   35.000000   36.000000   \n",
       "50%      1.000000    0.000000    0.000000    0.000000   41.000000   40.000000   \n",
       "75%      1.000000    0.000000    1.000000    1.000000   48.000000   46.000000   \n",
       "max      1.000000    1.000000    1.000000    1.000000   59.000000   61.000000   \n",
       "\n",
       "              CTI    睡眠总长（分钟）        睡眠效率        清醒次数        离床次数  \\\n",
       "count  135.000000  135.000000  135.000000  135.000000  135.000000   \n",
       "mean    20.562963  403.822222    0.603037   18.066667    4.888889   \n",
       "std      7.223105  162.804107    0.161070    9.289056    4.550983   \n",
       "min     11.000000   24.000000    0.000000    1.000000    0.000000   \n",
       "25%     14.000000  298.500000    0.550000   12.000000    2.000000   \n",
       "50%     20.000000  427.000000    0.640000   18.000000    4.000000   \n",
       "75%     27.000000  532.500000    0.705000   24.500000    7.000000   \n",
       "max     37.000000  665.000000    0.850000   47.000000   24.000000   \n",
       "\n",
       "       Y（0为正常，1为紊乱）  \n",
       "count    135.000000  \n",
       "mean       0.711111  \n",
       "std        0.454934  \n",
       "min        0.000000  \n",
       "25%        0.000000  \n",
       "50%        1.000000  \n",
       "75%        1.000000  \n",
       "max        1.000000  "
      ]
     },
     "execution_count": 5,
     "metadata": {},
     "output_type": "execute_result"
    }
   ],
   "source": [
    "pima_01.describe()"
   ]
  },
  {
   "cell_type": "code",
   "execution_count": 6,
   "id": "after-bachelor",
   "metadata": {},
   "outputs": [],
   "source": [
    "to_drop_02 = ['离床次数','是否有新发脑梗死病灶','高脂血症病史','高血压病史','性别','糖尿病史','饮酒史']\n",
    "pima_02 = pima_01.drop(to_drop_02,axis=1)"
   ]
  },
  {
   "cell_type": "code",
   "execution_count": 7,
   "id": "authorized-airfare",
   "metadata": {},
   "outputs": [],
   "source": [
    "from sklearn.feature_selection import SelectKBest \n",
    "from sklearn.feature_selection import chi2 #卡方统计量\n",
    "X = pima_02.iloc[:, 0:10] # 特征列 0-10列，不含第10列\n",
    "Y = pima_02.iloc[:, 10] # 目标列为第10列\n"
   ]
  },
  {
   "cell_type": "code",
   "execution_count": 8,
   "id": "posted-drilling",
   "metadata": {},
   "outputs": [
    {
     "data": {
      "text/html": [
       "<div>\n",
       "<style scoped>\n",
       "    .dataframe tbody tr th:only-of-type {\n",
       "        vertical-align: middle;\n",
       "    }\n",
       "\n",
       "    .dataframe tbody tr th {\n",
       "        vertical-align: top;\n",
       "    }\n",
       "\n",
       "    .dataframe thead th {\n",
       "        text-align: right;\n",
       "    }\n",
       "</style>\n",
       "<table border=\"1\" class=\"dataframe\">\n",
       "  <thead>\n",
       "    <tr style=\"text-align: right;\">\n",
       "      <th></th>\n",
       "      <th>年龄</th>\n",
       "      <th>身高</th>\n",
       "      <th>体重</th>\n",
       "      <th>吸烟史</th>\n",
       "      <th>SDS</th>\n",
       "      <th>SAS</th>\n",
       "      <th>CTI</th>\n",
       "      <th>睡眠总长（分钟）</th>\n",
       "      <th>睡眠效率</th>\n",
       "      <th>清醒次数</th>\n",
       "    </tr>\n",
       "  </thead>\n",
       "  <tbody>\n",
       "    <tr>\n",
       "      <th>0</th>\n",
       "      <td>-1.451852</td>\n",
       "      <td>-0.063706</td>\n",
       "      <td>0.868933</td>\n",
       "      <td>0.881088</td>\n",
       "      <td>-0.145569</td>\n",
       "      <td>0.095417</td>\n",
       "      <td>1.867214</td>\n",
       "      <td>-0.473627</td>\n",
       "      <td>-1.327559</td>\n",
       "      <td>-0.007204</td>\n",
       "    </tr>\n",
       "    <tr>\n",
       "      <th>1</th>\n",
       "      <td>-1.451852</td>\n",
       "      <td>-0.063706</td>\n",
       "      <td>0.868933</td>\n",
       "      <td>0.881088</td>\n",
       "      <td>-0.145569</td>\n",
       "      <td>0.095417</td>\n",
       "      <td>1.867214</td>\n",
       "      <td>0.827237</td>\n",
       "      <td>-0.455137</td>\n",
       "      <td>1.289450</td>\n",
       "    </tr>\n",
       "    <tr>\n",
       "      <th>2</th>\n",
       "      <td>-1.451852</td>\n",
       "      <td>-0.063706</td>\n",
       "      <td>0.868933</td>\n",
       "      <td>0.881088</td>\n",
       "      <td>-0.145569</td>\n",
       "      <td>0.095417</td>\n",
       "      <td>1.867214</td>\n",
       "      <td>0.531306</td>\n",
       "      <td>-0.081241</td>\n",
       "      <td>1.505559</td>\n",
       "    </tr>\n",
       "    <tr>\n",
       "      <th>3</th>\n",
       "      <td>0.892854</td>\n",
       "      <td>1.327511</td>\n",
       "      <td>0.439870</td>\n",
       "      <td>0.881088</td>\n",
       "      <td>-0.020398</td>\n",
       "      <td>1.619006</td>\n",
       "      <td>0.894492</td>\n",
       "      <td>0.555967</td>\n",
       "      <td>1.102760</td>\n",
       "      <td>-0.439422</td>\n",
       "    </tr>\n",
       "    <tr>\n",
       "      <th>4</th>\n",
       "      <td>0.892854</td>\n",
       "      <td>1.327511</td>\n",
       "      <td>0.439870</td>\n",
       "      <td>0.881088</td>\n",
       "      <td>-0.020398</td>\n",
       "      <td>1.619006</td>\n",
       "      <td>0.894492</td>\n",
       "      <td>0.352514</td>\n",
       "      <td>0.666549</td>\n",
       "      <td>0.641123</td>\n",
       "    </tr>\n",
       "  </tbody>\n",
       "</table>\n",
       "</div>"
      ],
      "text/plain": [
       "         年龄        身高        体重       吸烟史       SDS       SAS       CTI  \\\n",
       "0 -1.451852 -0.063706  0.868933  0.881088 -0.145569  0.095417  1.867214   \n",
       "1 -1.451852 -0.063706  0.868933  0.881088 -0.145569  0.095417  1.867214   \n",
       "2 -1.451852 -0.063706  0.868933  0.881088 -0.145569  0.095417  1.867214   \n",
       "3  0.892854  1.327511  0.439870  0.881088 -0.020398  1.619006  0.894492   \n",
       "4  0.892854  1.327511  0.439870  0.881088 -0.020398  1.619006  0.894492   \n",
       "\n",
       "   睡眠总长（分钟）      睡眠效率      清醒次数  \n",
       "0 -0.473627 -1.327559 -0.007204  \n",
       "1  0.827237 -0.455137  1.289450  \n",
       "2  0.531306 -0.081241  1.505559  \n",
       "3  0.555967  1.102760 -0.439422  \n",
       "4  0.352514  0.666549  0.641123  "
      ]
     },
     "execution_count": 8,
     "metadata": {},
     "output_type": "execute_result"
    }
   ],
   "source": [
    "from sklearn.preprocessing import StandardScaler\n",
    " \n",
    "rescaledX = StandardScaler().fit_transform(X)\n",
    "#通过sklearn的preprocessing数据预处理中StandardScaler特征缩放 标准化特征信息\n",
    " \n",
    "X = pd.DataFrame(data = rescaledX, columns = X.columns)\n",
    "# 构建新特征DataFrame\n",
    "\n",
    "X.head()"
   ]
  },
  {
   "cell_type": "code",
   "execution_count": 9,
   "id": "driven-fossil",
   "metadata": {},
   "outputs": [],
   "source": [
    "# 将Y转成神经网络需要的数组结构\n",
    "Y_01 = pd.get_dummies(Y).values"
   ]
  },
  {
   "cell_type": "code",
   "execution_count": 10,
   "id": "vanilla-power",
   "metadata": {},
   "outputs": [],
   "source": [
    "from sklearn.model_selection import train_test_split\n",
    "\n",
    "seed = 5 #重现随机生成的训练\n",
    "test_size = 0.25 #33%测试，67%训练\n",
    "X_train, X_test, Y_train, Y_test = train_test_split(X, Y_01, test_size=test_size, random_state=seed)"
   ]
  },
  {
   "cell_type": "code",
   "execution_count": 113,
   "id": "bronze-murray",
   "metadata": {},
   "outputs": [],
   "source": [
    "# 在再次训练之前重置训练\n",
    "from keras import backend as back\n",
    "curr_session = tf.compat.v1.get_default_session()\n",
    "# close current session\n",
    "if curr_session is not None:\n",
    "    curr_session.close()\n",
    "# reset graph\n",
    "back.clear_session()\n",
    "# create new session\n",
    "s = tf.compat.v1.InteractiveSession()\n",
    "tf.compat.v1.keras.backend.set_session(s)"
   ]
  },
  {
   "cell_type": "code",
   "execution_count": 114,
   "id": "pending-printing",
   "metadata": {},
   "outputs": [],
   "source": [
    "# 定义模型\n",
    "init = K.initializers.glorot_uniform(seed=1)\n",
    "simple_adam = K.optimizers.Adam(lr=0.002, beta_1=0.9, beta_2=0.99, epsilon=1e-08, decay=0.0)\n",
    "model = K.models.Sequential()\n",
    "model.add(K.layers.Dense(units=15, input_dim=10, kernel_initializer=init, activation='relu'))\n",
    "model.add(K.layers.Dense(units=15, kernel_initializer=init, activation='relu'))\n",
    "model.add(K.layers.Dense(units=15, kernel_initializer=init, activation='relu'))\n",
    "model.add(K.layers.Dense(units=2, kernel_initializer=init, activation='softmax'))\n",
    "model.compile(loss='binary_crossentropy', optimizer=simple_adam, metrics=['accuracy'])"
   ]
  },
  {
   "cell_type": "code",
   "execution_count": 115,
   "id": "valuable-christmas",
   "metadata": {},
   "outputs": [
    {
     "name": "stdout",
     "output_type": "stream",
     "text": [
      "Starting training \n",
      "Train on 101 samples, validate on 34 samples\n",
      "Epoch 1/15\n",
      "101/101 [==============================] - 0s 3ms/sample - loss: 0.6475 - accuracy: 0.7030 - val_loss: 0.5961 - val_accuracy: 0.7059\n",
      "Epoch 2/15\n",
      "101/101 [==============================] - 0s 3ms/sample - loss: 0.5717 - accuracy: 0.7129 - val_loss: 0.5609 - val_accuracy: 0.7059\n",
      "Epoch 3/15\n",
      "101/101 [==============================] - 0s 3ms/sample - loss: 0.5310 - accuracy: 0.7129 - val_loss: 0.5355 - val_accuracy: 0.7059\n",
      "Epoch 4/15\n",
      "101/101 [==============================] - 0s 3ms/sample - loss: 0.5075 - accuracy: 0.7129 - val_loss: 0.5239 - val_accuracy: 0.7059\n",
      "Epoch 5/15\n",
      "101/101 [==============================] - 0s 3ms/sample - loss: 0.4859 - accuracy: 0.7030 - val_loss: 0.5088 - val_accuracy: 0.7059\n",
      "Epoch 6/15\n",
      "101/101 [==============================] - 0s 3ms/sample - loss: 0.4678 - accuracy: 0.7129 - val_loss: 0.4938 - val_accuracy: 0.7059\n",
      "Epoch 7/15\n",
      "101/101 [==============================] - 0s 4ms/sample - loss: 0.4465 - accuracy: 0.7426 - val_loss: 0.4994 - val_accuracy: 0.7059\n",
      "Epoch 8/15\n",
      "101/101 [==============================] - 0s 3ms/sample - loss: 0.4303 - accuracy: 0.7525 - val_loss: 0.4807 - val_accuracy: 0.8529\n",
      "Epoch 9/15\n",
      "101/101 [==============================] - 0s 2ms/sample - loss: 0.4154 - accuracy: 0.8119 - val_loss: 0.4686 - val_accuracy: 0.8529\n",
      "Epoch 10/15\n",
      "101/101 [==============================] - 0s 2ms/sample - loss: 0.3964 - accuracy: 0.8218 - val_loss: 0.4550 - val_accuracy: 0.8529\n",
      "Epoch 11/15\n",
      "101/101 [==============================] - 0s 2ms/sample - loss: 0.3732 - accuracy: 0.8317 - val_loss: 0.4111 - val_accuracy: 0.8824\n",
      "Epoch 12/15\n",
      "101/101 [==============================] - 0s 2ms/sample - loss: 0.3639 - accuracy: 0.8515 - val_loss: 0.4269 - val_accuracy: 0.8529\n",
      "Epoch 13/15\n",
      "101/101 [==============================] - ETA: 0s - loss: 0.3721 - accuracy: 0.79 - 0s 3ms/sample - loss: 0.3508 - accuracy: 0.8020 - val_loss: 0.4140 - val_accuracy: 0.8824\n",
      "Epoch 14/15\n",
      "101/101 [==============================] - 0s 3ms/sample - loss: 0.3302 - accuracy: 0.8515 - val_loss: 0.4154 - val_accuracy: 0.8824\n",
      "Epoch 15/15\n",
      "101/101 [==============================] - 0s 4ms/sample - loss: 0.3190 - accuracy: 0.8614 - val_loss: 0.3838 - val_accuracy: 0.9118\n",
      "Training finished \n",
      "\n"
     ]
    }
   ],
   "source": [
    "# 训练模型\n",
    "b_size = 1\n",
    "max_epochs = 15\n",
    "print(\"Starting training \")\n",
    "h = model.fit(X_train, Y_train, batch_size=b_size, epochs=max_epochs, shuffle=True, verbose=1, validation_data=(X_test, Y_test))\n",
    "print(\"Training finished \\n\")"
   ]
  },
  {
   "cell_type": "code",
   "execution_count": 124,
   "id": "right-documentation",
   "metadata": {},
   "outputs": [],
   "source": [
    "# 保存模型/加载模型\n",
    "from keras.models import load_model\n",
    "model.save('dl_T.h5')  # creates a HDF5 file 'dl_T.h5'\n",
    "# del model  # 删除现有模型\n",
    "# # 加载已保存模型\n",
    "# model = load_model('dl_T.h5')"
   ]
  },
  {
   "cell_type": "code",
   "execution_count": 116,
   "id": "signal-exclusive",
   "metadata": {},
   "outputs": [
    {
     "name": "stdout",
     "output_type": "stream",
     "text": [
      "Evaluation on test data: loss = 0.383756 accuracy = 91.18% \n",
      "\n"
     ]
    }
   ],
   "source": [
    "# 评估模型\n",
    "eval = model.evaluate(X_test, Y_test, verbose=0)\n",
    "print(\"Evaluation on test data: loss = %0.6f accuracy = %0.2f%% \\n\" \\\n",
    "          % (eval[0], eval[1] * 100) )"
   ]
  },
  {
   "cell_type": "code",
   "execution_count": 117,
   "id": "arabic-regression",
   "metadata": {},
   "outputs": [
    {
     "data": {
      "text/plain": [
       "array([[1.30963614e-02, 9.86903667e-01],\n",
       "       [1.95844442e-01, 8.04155529e-01],\n",
       "       [6.87273918e-04, 9.99312758e-01],\n",
       "       [9.60011687e-03, 9.90399897e-01],\n",
       "       [6.91644857e-08, 9.99999881e-01],\n",
       "       [1.93142772e-01, 8.06857228e-01],\n",
       "       [8.23491991e-01, 1.76508084e-01],\n",
       "       [1.75954085e-06, 9.99998212e-01],\n",
       "       [4.63870419e-05, 9.99953628e-01],\n",
       "       [2.39798985e-03, 9.97602046e-01],\n",
       "       [1.70929477e-01, 8.29070449e-01],\n",
       "       [7.23800421e-01, 2.76199609e-01],\n",
       "       [3.12031955e-01, 6.87968075e-01],\n",
       "       [7.81163812e-01, 2.18836188e-01],\n",
       "       [3.12570512e-01, 6.87429428e-01],\n",
       "       [1.15454376e-01, 8.84545624e-01],\n",
       "       [6.86935522e-08, 9.99999881e-01],\n",
       "       [1.49190918e-01, 8.50809038e-01],\n",
       "       [2.01023772e-01, 7.98976243e-01],\n",
       "       [4.07622894e-03, 9.95923758e-01],\n",
       "       [1.11756005e-17, 1.00000000e+00],\n",
       "       [6.70629702e-20, 1.00000000e+00],\n",
       "       [8.00870478e-01, 1.99129522e-01],\n",
       "       [9.43188891e-02, 9.05681133e-01],\n",
       "       [9.18418825e-01, 8.15812200e-02],\n",
       "       [7.48495817e-01, 2.51504153e-01],\n",
       "       [9.00166167e-04, 9.99099851e-01],\n",
       "       [3.74079794e-01, 6.25920236e-01],\n",
       "       [6.93588674e-01, 3.06411386e-01],\n",
       "       [1.26034602e-05, 9.99987364e-01],\n",
       "       [3.60993217e-05, 9.99963880e-01],\n",
       "       [4.31744009e-03, 9.95682597e-01],\n",
       "       [1.10073233e-05, 9.99989033e-01],\n",
       "       [4.28379178e-01, 5.71620762e-01]], dtype=float32)"
      ]
     },
     "execution_count": 117,
     "metadata": {},
     "output_type": "execute_result"
    }
   ],
   "source": [
    "# 使用模型进行预测\n",
    "Y_pred = model.predict(X_test)\n",
    "Y_pred"
   ]
  },
  {
   "cell_type": "code",
   "execution_count": 118,
   "id": "spread-monster",
   "metadata": {},
   "outputs": [
    {
     "data": {
      "text/plain": [
       "array([1, 1, 1, 1, 1, 1, 0, 1, 1, 1, 1, 0, 1, 0, 1, 1, 1, 1, 1, 1, 1, 1,\n",
       "       0, 1, 0, 0, 1, 1, 0, 1, 1, 1, 1, 1], dtype=int64)"
      ]
     },
     "execution_count": 118,
     "metadata": {},
     "output_type": "execute_result"
    }
   ],
   "source": [
    "Y_pred_class = np.argmax(Y_pred, axis=1)  #其实就是记录每个数组中值最大的数的index\n",
    "Y_pred_class"
   ]
  },
  {
   "cell_type": "code",
   "execution_count": 119,
   "id": "healthy-socket",
   "metadata": {},
   "outputs": [
    {
     "data": {
      "text/plain": [
       "array([1, 0, 1, 1, 1, 1, 0, 1, 1, 1, 1, 0, 1, 0, 1, 1, 1, 1, 0, 1, 1, 1,\n",
       "       0, 1, 0, 0, 0, 1, 0, 1, 1, 1, 1, 1], dtype=int64)"
      ]
     },
     "execution_count": 119,
     "metadata": {},
     "output_type": "execute_result"
    }
   ],
   "source": [
    "Y_test_class = np.argmax(Y_test, axis=1)  #其实就是记录每个数组中值最大的数的index\n",
    "Y_test_class"
   ]
  },
  {
   "cell_type": "code",
   "execution_count": 120,
   "id": "crazy-thread",
   "metadata": {},
   "outputs": [
    {
     "name": "stdout",
     "output_type": "stream",
     "text": [
      "              precision    recall  f1-score   support\n",
      "\n",
      "           0       1.00      0.70      0.82        10\n",
      "           1       0.89      1.00      0.94        24\n",
      "\n",
      "    accuracy                           0.91        34\n",
      "   macro avg       0.94      0.85      0.88        34\n",
      "weighted avg       0.92      0.91      0.91        34\n",
      "\n"
     ]
    }
   ],
   "source": [
    "from sklearn.metrics import classification_report\n",
    "report = classification_report(Y_test_class, Y_pred_class)\n",
    "print(report)"
   ]
  },
  {
   "cell_type": "code",
   "execution_count": 121,
   "id": "complimentary-thanksgiving",
   "metadata": {},
   "outputs": [
    {
     "data": {
      "text/plain": [
       "<matplotlib.legend.Legend at 0x1fbe7668ef0>"
      ]
     },
     "execution_count": 121,
     "metadata": {},
     "output_type": "execute_result"
    },
    {
     "data": {
      "image/png": "[encoded data removed]",
      "text/plain": [
       "<Figure size 432x288 with 1 Axes>"
      ]
     },
     "metadata": {
      "needs_background": "light"
     },
     "output_type": "display_data"
    },
    {
     "data": {
      "image/png": "[encoded data removed]",
      "text/plain": [
       "<Figure size 432x288 with 1 Axes>"
      ]
     },
     "metadata": {
      "needs_background": "light"
     },
     "output_type": "display_data"
    },
    {
     "data": {
      "image/png": "[encoded data removed]",
      "text/plain": [
       "<Figure size 432x288 with 1 Axes>"
      ]
     },
     "metadata": {
      "needs_background": "light"
     },
     "output_type": "display_data"
    },
    {
     "data": {
      "image/png": "[encoded data removed]",
      "text/plain": [
       "<Figure size 432x288 with 1 Axes>"
      ]
     },
     "metadata": {
      "needs_background": "light"
     },
     "output_type": "display_data"
    }
   ],
   "source": [
    "# 绘制loss、accuracy曲线\n",
    "from matplotlib import pyplot as plt \n",
    "\n",
    "epochs=range(len(h.history['accuracy']))\n",
    "plt.figure()\n",
    "plt.plot(epochs,h.history['accuracy'],'b',label='Training accuracy')\n",
    "plt.title('Training accuracy')\n",
    "plt.legend()\n",
    "\n",
    "plt.figure()\n",
    "plt.plot(epochs,h.history['loss'],'b',label='Training loss')\n",
    "plt.title('Training loss')\n",
    "plt.legend()\n",
    "\n",
    "plt.figure()\n",
    "plt.plot(epochs,h.history['val_accuracy'],'b',label='Testing accuracy')\n",
    "plt.title('Testing accuracy')\n",
    "plt.legend()\n",
    "\n",
    "plt.figure()\n",
    "plt.plot(epochs,h.history['val_loss'],'b',label='Testing loss')\n",
    "plt.title('Testing loss')\n",
    "plt.legend()"
   ]
  },
  {
   "cell_type": "code",
   "execution_count": null,
   "id": "digital-contrast",
   "metadata": {},
   "outputs": [],
   "source": []
  },
  {
   "cell_type": "code",
   "execution_count": null,
   "id": "caroline-effects",
   "metadata": {},
   "outputs": [],
   "source": []
  }
 ],
 "metadata": {
  "kernelspec": {
   "display_name": "Python [conda env:pytorch] *",
   "language": "python",
   "name": "conda-env-pytorch-py"
  },
  "language_info": {
   "codemirror_mode": {
    "name": "ipython",
    "version": 3
   },
   "file_extension": ".py",
   "mimetype": "text/x-python",
   "name": "python",
   "nbconvert_exporter": "python",
   "pygments_lexer": "ipython3",
   "version": "3.6.12"
  }
 },
 "nbformat": 4,
 "nbformat_minor": 5
}
